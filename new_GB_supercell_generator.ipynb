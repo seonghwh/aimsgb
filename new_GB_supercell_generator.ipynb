{
 "cells": [
  {
   "cell_type": "code",
   "execution_count": 1,
   "metadata": {},
   "outputs": [],
   "source": [
    "from aimsgb import GrainBoundary, Grain\n",
    "import numpy as np"
   ]
  },
  {
   "cell_type": "code",
   "execution_count": 2,
   "metadata": {},
   "outputs": [],
   "source": [
    "def read_poscar(filename):\n",
    "    with open(filename, 'r') as f:\n",
    "        lines = f.readlines()\n",
    "\n",
    "    # Read the header\n",
    "    system_name = lines[0].strip()\n",
    "\n",
    "    # Read the scaling factor\n",
    "    scale = float(lines[1].strip())\n",
    "\n",
    "    # Read the lattice vectors\n",
    "    lattice_vectors = []\n",
    "    for i in range(2, 5):\n",
    "        lattice_vectors.append([float(x) for x in lines[i].split()])\n",
    "    lattice_vectors = np.array(lattice_vectors) * scale\n",
    "\n",
    "    # Read the element symbols and counts\n",
    "    elements = lines[5].split()\n",
    "    counts = [int(x) for x in lines[6].split()]\n",
    "\n",
    "    # Read the coordinate style\n",
    "    coord_style = lines[7].strip().lower()\n",
    "\n",
    "    # Read the atomic coordinates\n",
    "    coords = []\n",
    "    symbols = []\n",
    "    start = 8\n",
    "    for i, count in enumerate(counts):\n",
    "        end = start + count\n",
    "        symbols.extend([elements[i]] * count)\n",
    "        for j in range(start, end):\n",
    "            coords.append([float(x) for x in lines[j].split()[:3]])\n",
    "        start = end\n",
    "\n",
    "    # If the coordinate style is fractional, convert to Cartesian\n",
    "    if coord_style == 'direct' or coord_style == 'cartesian':\n",
    "        pass\n",
    "    elif coord_style == 'fractional':\n",
    "        coords = np.dot(coords, lattice_vectors)\n",
    "    else:\n",
    "        raise ValueError('Unsupported coordinate style: {}'.format(coord_style))\n",
    "\n",
    "    return system_name, lattice_vectors, symbols, coords\n",
    "\n",
    "def write_cel(filename, system_name, lattice_vectors, symbols, coords):\n",
    "    with open(filename, 'w') as f:\n",
    "        f.write('Comment string\\n')\n",
    "        f.write('0 {:.4f} {:.4f} {:.4f} 90.0000 90.0000 90.0000\\n'.format(\n",
    "            lattice_vectors[0][0]/10, lattice_vectors[1][1]/10, lattice_vectors[2][2]/10))\n",
    "        for symbol, coord in zip(symbols, coords):\n",
    "            f.write('{} {:.6f} {:.6f} {:.6f} 1.000000 0.005100 0.000000 0.000000 0.000000\\n'.format(\n",
    "                symbol, coord[0], coord[1], coord[2]))\n",
    "        f.write('*\\n')"
   ]
  },
  {
   "cell_type": "code",
   "execution_count": 3,
   "metadata": {},
   "outputs": [
    {
     "data": {
      "application/vnd.jupyter.widget-view+json": {
       "model_id": "c6563553269840c89bdbdfee93ed6459",
       "version_major": 2,
       "version_minor": 0
      },
      "text/plain": [
       "Retrieving MaterialsDoc documents:   0%|          | 0/1 [00:00<?, ?it/s]"
      ]
     },
     "metadata": {},
     "output_type": "display_data"
    }
   ],
   "source": [
    "s_input = Grain.from_mp_id(\"mp-2998\")\n",
    "\n",
    "gb = GrainBoundary([0, 0, 1], 5, [0, 0, 1], s_input, uc_a=1, uc_b=1)\n",
    "structure = Grain.stack_grains(gb.grain_a, gb.grain_b, direction=gb.direction)\n",
    "\n",
    "filename=\"BTO_[001]5[001]_uc1x_POSCAR\"\n",
    "structure.to(filename=filename)\n",
    "\n",
    "poscar_file = filename\n",
    "replaced_filename = filename.replace(\"_POSCAR\", \"\")\n",
    "cel_file = f\"{replaced_filename}.cel\""
   ]
  },
  {
   "cell_type": "code",
   "execution_count": 4,
   "metadata": {},
   "outputs": [],
   "source": [
    "system_name, lattice_vectors, symbols, coords = read_poscar(poscar_file)"
   ]
  },
  {
   "cell_type": "code",
   "execution_count": 25,
   "metadata": {},
   "outputs": [
    {
     "data": {
      "text/plain": [
       "array([-6.33670105,  6.33670105,  0.        ])"
      ]
     },
     "execution_count": 25,
     "metadata": {},
     "output_type": "execute_result"
    }
   ],
   "source": [
    "lattice_vectors\n",
    "lattice_vectors_transpose = np.transpose(lattice_vectors)\n",
    "lattice_vectors_transpose\n",
    "new_lattice_vectors = np.matmul(lattice_vectors_transpose, [0, 0, 1])\n",
    "new_lattice_vectors"
   ]
  },
  {
   "cell_type": "code",
   "execution_count": 21,
   "metadata": {},
   "outputs": [
    {
     "data": {
      "text/plain": [
       "[array([-5.06936084, -3.80202063, -6.01152245]),\n",
       " array([-7.60404126,  3.80202063, -6.01152245]),\n",
       " array([-2.53468042,  1.26734021, -6.01152245]),\n",
       " array([-10.13872168,  -1.26734021,  -6.01152245]),\n",
       " array([-6.33670105e+00,  8.88178420e-16, -6.01152245e+00]),\n",
       " array([-5.06936084,  3.80202063, -2.00384082]),\n",
       " array([-7.60404126, -3.80202063, -2.00384082]),\n",
       " array([-2.53468042, -1.26734021, -2.00384082]),\n",
       " array([-10.13872168,   1.26734021,  -2.00384082]),\n",
       " array([-6.33670105e+00,  2.22044605e-15, -2.00384082e+00]),\n",
       " array([-10.77239179,   0.63367011,  -8.01536327]),\n",
       " array([-6.97037116,  1.90101032, -8.01536327]),\n",
       " array([-1.90101032e+00, -6.33670105e-01, -9.61536327e-16]),\n",
       " array([-3.16835053,  3.16835053, -8.01536327]),\n",
       " array([-5.70303095e+00, -1.90101032e+00, -4.80000000e-16]),\n",
       " array([-6.97037116, -4.43569074, -8.01536327]),\n",
       " array([-3.16835053, -3.16835053, -8.01536327]),\n",
       " array([-4.43569074,  0.63367011, -8.01536327]),\n",
       " array([-5.70303095e+00,  4.43569074e+00, -8.00000000e-17]),\n",
       " array([-8.23771137, -0.63367011, -8.01536327]),\n",
       " array([ 0.        ,  0.        , -6.01152245]),\n",
       " array([-8.87138147,  1.26734021, -6.01152245]),\n",
       " array([-3.80202063, -1.26734021, -6.01152245]),\n",
       " array([-5.06936084,  2.53468042, -6.01152245]),\n",
       " array([-7.60404126, -2.53468042, -6.01152245]),\n",
       " array([-10.77239179,  -0.63367011,  -4.00768164]),\n",
       " array([-6.97037116, -1.90101032, -4.00768164]),\n",
       " array([-1.90101032,  0.63367011, -4.00768164]),\n",
       " array([-3.16835053, -3.16835053, -4.00768164]),\n",
       " array([-5.70303095,  1.90101032, -4.00768164]),\n",
       " array([-6.97037116,  4.43569074, -4.00768164]),\n",
       " array([-9.50505158, -3.16835053, -4.00768164]),\n",
       " array([-4.43569074, -0.63367011, -4.00768164]),\n",
       " array([-5.70303095, -4.43569074, -4.00768164]),\n",
       " array([-8.23771137,  0.63367011, -4.00768164]),\n",
       " array([-12.67340211,   0.        ,  -2.00384082]),\n",
       " array([-8.87138147, -1.26734021, -2.00384082]),\n",
       " array([-3.80202063,  1.26734021, -2.00384082]),\n",
       " array([-5.06936084, -2.53468042, -2.00384082]),\n",
       " array([-7.60404126,  2.53468042, -2.00384082]),\n",
       " array([0., 0., 0.]),\n",
       " array([-8.87138147,  1.26734021, -8.01536327]),\n",
       " array([-3.80202063e+00, -1.26734021e+00, -3.20000000e-16]),\n",
       " array([-5.06936084e+00,  2.53468042e+00, -1.60000000e-16]),\n",
       " array([-7.60404126, -2.53468042, -8.01536327]),\n",
       " array([-12.67340211,   0.        ,  -4.00768164]),\n",
       " array([-8.87138147, -1.26734021, -4.00768164]),\n",
       " array([-3.80202063,  1.26734021, -4.00768164]),\n",
       " array([-5.06936084, -2.53468042, -4.00768164]),\n",
       " array([-7.60404126,  2.53468042, -4.00768164])]"
      ]
     },
     "execution_count": 21,
     "metadata": {},
     "output_type": "execute_result"
    }
   ],
   "source": [
    "coords[0]\n",
    "np.matmul(lattice_vectors_transpose, coords[0])\n",
    "coords_transformed = []\n",
    "for i in range(len(coords)):\n",
    "    coords_transformed.append(np.matmul(lattice_vectors_transpose, coords[i]))\n",
    "coords_transformed\n"
   ]
  },
  {
   "cell_type": "code",
   "execution_count": null,
   "metadata": {},
   "outputs": [],
   "source": [
    "\n",
    "\n",
    "\n",
    "write_cel(cel_file, system_name, lattice_vectors, symbols, coords)"
   ]
  }
 ],
 "metadata": {
  "kernelspec": {
   "display_name": "Python 3",
   "language": "python",
   "name": "python3"
  },
  "language_info": {
   "codemirror_mode": {
    "name": "ipython",
    "version": 3
   },
   "file_extension": ".py",
   "mimetype": "text/x-python",
   "name": "python",
   "nbconvert_exporter": "python",
   "pygments_lexer": "ipython3",
   "version": "3.10.13"
  }
 },
 "nbformat": 4,
 "nbformat_minor": 2
}
