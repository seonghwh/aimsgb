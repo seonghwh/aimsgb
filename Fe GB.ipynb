{
 "cells": [
  {
   "cell_type": "code",
   "execution_count": 1,
   "metadata": {},
   "outputs": [],
   "source": [
    "from aimsgb import GrainBoundary, Grain\n",
    "\n",
    "s_input = Grain.from_file(\"tests/input/POSCAR_mp-13\")\n",
    "gb = GrainBoundary([0, 0, 1], 5, [1, 2, 0], s_input)\n",
    "structure = Grain.stack_grains(gb.grain_a, gb.grain_b, direction=gb.direction)"
   ]
  },
  {
   "cell_type": "code",
   "execution_count": 2,
   "metadata": {},
   "outputs": [
    {
     "data": {
      "application/vnd.jupyter.widget-view+json": {
       "model_id": "504de432097a4bd687c89c9747e83c11",
       "version_major": 2,
       "version_minor": 0
      },
      "text/plain": [
       "Retrieving MaterialsDoc documents:   0%|          | 0/1 [00:00<?, ?it/s]"
      ]
     },
     "metadata": {},
     "output_type": "display_data"
    }
   ],
   "source": [
    "s_input = Grain.from_mp_id(\"mp-13\")"
   ]
  },
  {
   "cell_type": "code",
   "execution_count": 3,
   "metadata": {},
   "outputs": [],
   "source": [
    "gb = GrainBoundary([0, 0, 1], 5, [1, 2, 0], s_input, uc_a=2, uc_b=2)\n",
    "structure = Grain.stack_grains(gb.grain_a, gb.grain_b, direction=gb.direction)"
   ]
  },
  {
   "cell_type": "code",
   "execution_count": 4,
   "metadata": {},
   "outputs": [],
   "source": [
    "gb = GrainBoundary([0, 0, 1], 5, [1, 2, 0], s_input)\n",
    "gb.grain_a.translate_sites(range(len(gb.grain_a)), [0.2, 0, 0])\n",
    "structure = Grain.stack_grains(gb.grain_a, gb.grain_b, direction=gb.direction)"
   ]
  },
  {
   "cell_type": "code",
   "execution_count": 1,
   "metadata": {},
   "outputs": [
    {
     "name": "stdout",
     "output_type": "stream",
     "text": [
      "Grain boundary information for rotation axis: 110\n",
      "Show the sigma values up to 30 (Note: * means twist GB, Theta is the rotation angle)\n",
      "|  Sigma  |  Theta  | GB plane   | CSL matrix   |\n",
      "|---------+---------+------------+--------------|\n",
      "|    3    |  70.53  | (-1 1 1)   | -1  1  1     |\n",
      "|         |         | (1 -1 2)   | 1 -1  1      |\n",
      "|         |         | (1 1 0)*   | 1  2  0      |\n",
      "|    9    |  38.94  | (-1 1 -4)  | -1 -2  1     |\n",
      "|         |         | (-2 2 1)   | 1  2  1      |\n",
      "|         |         | (1 1 0)*   | -4  1  0     |\n",
      "|   11    |  50.48  | (-3 3 2)   | -3  1  1     |\n",
      "|         |         | (1 -1 3)   | 3 -1  1      |\n",
      "|         |         | (1 1 0)*   | 2  3  0      |\n",
      "|   17    |  86.63  | (3 -3 -4)  | 3 -2  1      |\n",
      "|         |         | (-2 2 -3)  | -3  2  1     |\n",
      "|         |         | (1 1 0)*   | -4 -3  0     |\n",
      "|   19    |  26.53  | (-3 3 1)   | -3  1  1     |\n",
      "|         |         | (1 -1 6)   | 3 -1  1      |\n",
      "|         |         | (1 1 0)*   | 1  6  0      |\n",
      "|   27    |  31.59  | (-5 5 2)   | -5  1  1     |\n",
      "|         |         | (1 -1 5)   | 5 -1  1      |\n",
      "|         |         | (1 1 0)*   | 2  5  0      |\n"
     ]
    }
   ],
   "source": [
    "from aimsgb import GBInformation\n",
    "\n",
    "print(GBInformation([1, 1, 0], 30).__str__())\n"
   ]
  },
  {
   "cell_type": "code",
   "execution_count": null,
   "metadata": {},
   "outputs": [],
   "source": []
  }
 ],
 "metadata": {
  "kernelspec": {
   "display_name": "Python 3",
   "language": "python",
   "name": "python3"
  },
  "language_info": {
   "codemirror_mode": {
    "name": "ipython",
    "version": 3
   },
   "file_extension": ".py",
   "mimetype": "text/x-python",
   "name": "python",
   "nbconvert_exporter": "python",
   "pygments_lexer": "ipython3",
   "version": "3.10.13"
  }
 },
 "nbformat": 4,
 "nbformat_minor": 2
}
